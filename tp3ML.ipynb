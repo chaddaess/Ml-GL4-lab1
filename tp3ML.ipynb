{
 "cells": [
  {
   "cell_type": "raw",
   "source": [
    "Exploration du dataset"
   ],
   "metadata": {
    "collapsed": false
   },
   "id": "168225fff38dd388"
  },
  {
   "cell_type": "code",
   "execution_count": 3,
   "outputs": [
    {
     "name": "stdout",
     "output_type": "stream",
     "text": [
      "nombre d'instances du dataset: 150\n",
      "repartition des données par classe: \n",
      "classe setosa = 50\n",
      "classe versicolor = 50\n",
      "classe virginica = 50\n",
      "data de la 32e instance: [5.4 3.4 1.5 0.4]\n",
      "classe de la 32e instance=' setosa '\n"
     ]
    }
   ],
   "source": [
    "from sklearn import datasets\n",
    "irisData=datasets.load_iris()\n",
    "print(\"nombre d'instances du dataset:\",len(irisData.data))\n",
    "print(\"repartition des données par classe: \")\n",
    "print(\"classe\",irisData.target_names[0],\"=\",len([t for t in irisData.target if t==0 ]))\n",
    "print(\"classe\",irisData.target_names[1],\"=\",len([t for t in irisData.target if t==1 ]))\n",
    "print(\"classe\",irisData.target_names[2],\"=\",len([t for t in irisData.target if t==2]))\n",
    "print(\"data de la 32e instance:\",irisData.data[31])\n",
    "print(\"classe de la 32e instance='\",irisData.target_names[irisData.target[31]],\"'\")"
   ],
   "metadata": {
    "collapsed": false,
    "ExecuteTime": {
     "end_time": "2024-11-06T19:27:27.864873400Z",
     "start_time": "2024-11-06T19:27:27.460664600Z"
    }
   },
   "id": "initial_id"
  },
  {
   "cell_type": "raw",
   "source": [
    "Visualisation du dataset"
   ],
   "metadata": {
    "collapsed": false
   },
   "id": "e4e80d23f4a85eac"
  },
  {
   "cell_type": "code",
   "execution_count": 4,
   "outputs": [
    {
     "data": {
      "text/plain": "<Figure size 640x480 with 1 Axes>",
      "image/png": "[encoded data removed]"
     },
     "metadata": {},
     "output_type": "display_data"
    }
   ],
   "source": [
    "from itertools import cycle\n",
    "import matplotlib\n",
    "import pylab as pl\n",
    "def plot_2D(data, target, target_names):\n",
    "    colors = cycle('rgbcmykw') # cycle de couleurs\n",
    "    target_ids = range(len(target_names))\n",
    "    pl.figure()\n",
    "    for i, c, label in zip(target_ids, colors, target_names):\n",
    "        pl.scatter(data[target == i, 0], data[target == i, 1], c=c, label=label)\n",
    "    pl.legend()\n",
    "    pl.plot([0,5,8],[2.25,3,3.5],color=\"yellow\")\n",
    "    pl.xlim(0, 11)\n",
    "    pl.ylim(2, 5)\n",
    "    pl.show()\n",
    "plot_2D(irisData.data,irisData.target,irisData.target_names)"
   ],
   "metadata": {
    "collapsed": false,
    "ExecuteTime": {
     "end_time": "2024-11-06T19:27:29.681782800Z",
     "start_time": "2024-11-06T19:27:27.853791600Z"
    }
   },
   "id": "eb3c577145e8ae0d"
  },
  {
   "cell_type": "raw",
   "source": [
    "Classification avec Naïve Bayes Modèle  1"
   ],
   "metadata": {
    "collapsed": false
   },
   "id": "21234080102f91bc"
  },
  {
   "cell_type": "code",
   "execution_count": 5,
   "outputs": [
    {
     "name": "stdout",
     "output_type": "stream",
     "text": [
      "prediction de la classe de la 32e instance: 0\n",
      "prediction de la classe de la dernière instance: 2\n",
      "prediction des classes de toutes les instances:\n",
      " [0 0 0 0 0 0 0 0 0 0 0 0 0 0 0 0 0 0 0 0 0 0 0 0 0 0 0 0 0 0 0 0 0 0 0 0 0\n",
      " 0 0 0 0 0 0 0 0 0 0 0 0 0 1 1 1 1 1 1 1 1 1 1 1 1 1 1 1 1 1 1 2 1 2 1 2 1\n",
      " 1 1 1 1 1 1 1 1 1 2 1 1 1 1 1 1 1 1 1 1 1 1 1 1 1 1 2 2 2 2 2 2 2 2 2 2 2\n",
      " 2 2 2 2 2 2 2 2 2 2 2 2 2 2 2 2 2 2 1 2 1 2 1 2 2 2 2 2 2 2 2 2 2 2 2 2 2\n",
      " 2 2]\n"
     ]
    }
   ],
   "source": [
    " from sklearn import naive_bayes\n",
    " nbv1 = naive_bayes.MultinomialNB(fit_prior=True)\n",
    " irisData = datasets.load_iris()\n",
    " nbv1.fit(irisData.data[:], irisData.target[:])\n",
    " p31 = nbv1.predict(irisData.data)[31]\n",
    " print (\"prediction de la classe de la 32e instance:\",p31)\n",
    " plast = nbv1.predict(irisData.data)[-1]\n",
    " print (\"prediction de la classe de la dernière instance:\",plast)\n",
    " pv1 = nbv1.predict(irisData.data[:])\n",
    " print (\"prediction des classes de toutes les instances:\\n\",pv1)"
   ],
   "metadata": {
    "collapsed": false,
    "ExecuteTime": {
     "end_time": "2024-11-06T19:27:29.747211400Z",
     "start_time": "2024-11-06T19:27:29.680780200Z"
    }
   },
   "id": "254c647d835461ef"
  },
  {
   "cell_type": "raw",
   "source": [
    "Evaluation du classifieur Naïve Bayes Modèle 1"
   ],
   "metadata": {
    "collapsed": false
   },
   "id": "528a2cfd096cf676"
  },
  {
   "cell_type": "code",
   "execution_count": 6,
   "outputs": [
    {
     "name": "stdout",
     "output_type": "stream",
     "text": [
      "0.04666666666666667\n",
      "0.04666666666666667\n",
      "0.046666666666666634\n",
      "liste des instanes incorrectement classées : [68, 70, 72, 83, 129, 131, 133]\n"
     ]
    }
   ],
   "source": [
    "#méthode 1\n",
    "ea = 0\n",
    "instances=[]\n",
    "for i in range(len(irisData.data)):\n",
    "    #compare predicted results to real target \n",
    "    if (pv1[i] != irisData.target[i]):\n",
    "        ea = ea + 1\n",
    "        instances.append(i)\n",
    "print(ea / len(irisData.data))\n",
    "\n",
    "#méthode 2\n",
    "import numpy\n",
    "print(numpy.count_nonzero(pv1-irisData.target)/len(irisData.target))\n",
    "\n",
    "#méthode 3\n",
    "print(1-nbv1.score(irisData.data,irisData.target))\n",
    "\n",
    "#Instances où il y a eu des prédictions incorrectes\n",
    "print(\"liste des instanes incorrectement classées :\",instances)"
   ],
   "metadata": {
    "collapsed": false,
    "ExecuteTime": {
     "end_time": "2024-11-06T19:27:29.893817700Z",
     "start_time": "2024-11-06T19:27:29.715041Z"
    }
   },
   "id": "659e4d194aaf99f4"
  },
  {
   "cell_type": "raw",
   "source": [
    "Classification avec Naïve Bayes Modèle 2"
   ],
   "metadata": {
    "collapsed": false
   },
   "id": "1ef046da33bb1b8a"
  },
  {
   "cell_type": "code",
   "execution_count": 7,
   "outputs": [
    {
     "name": "stdout",
     "output_type": "stream",
     "text": [
      "[1 1 1 1 1 1 1 1 1 1 1 1 1 1 1 1 1 1 1 1 1 1 1 1 1 1 1 1 1 1 1 1 1 1 1 1 1\n",
      " 1 1 1 1 1 1 1 1 1 1 1 1]\n"
     ]
    }
   ],
   "source": [
    "from sklearn import naive_bayes\n",
    "nbv2 = naive_bayes.MultinomialNB(fit_prior=True)\n",
    "nbv2.fit(irisData.data[:99], irisData.target[:99])\n",
    "pv2=nbv2.predict(irisData.data[100:149])\n",
    "print(pv2)\n"
   ],
   "metadata": {
    "collapsed": false,
    "ExecuteTime": {
     "end_time": "2024-11-06T19:27:29.894814300Z",
     "start_time": "2024-11-06T19:27:29.729394800Z"
    }
   },
   "id": "f7a1bc449ddb5a06"
  },
  {
   "cell_type": "raw",
   "source": [
    "Evaluation du classifieur Naïve Bayes Modèle 2"
   ],
   "metadata": {
    "collapsed": false
   },
   "id": "ff0b1572c2eaab16"
  },
  {
   "cell_type": "code",
   "execution_count": 8,
   "outputs": [
    {
     "name": "stdout",
     "output_type": "stream",
     "text": [
      "1.0\n",
      "1.0\n",
      "1.0\n",
      "liste des instanes incorrectement classées : [100, 101, 102, 103, 104, 105, 106, 107, 108, 109, 110, 111, 112, 113, 114, 115, 116, 117, 118, 119, 120, 121, 122, 123, 124, 125, 126, 127, 128, 129, 130, 131, 132, 133, 134, 135, 136, 137, 138, 139, 140, 141, 142, 143, 144, 145, 146, 147, 148]\n"
     ]
    }
   ],
   "source": [
    "ea = 0\n",
    "instancesv2=[]\n",
    "for i in range(0,49):\n",
    "    #compare predicted results to real target \n",
    "    if (pv2[i] != irisData.target[i+100]):\n",
    "        ea = ea + 1\n",
    "        instancesv2.append(i+100)\n",
    "print(ea / 49)\n",
    "#méthode 2\n",
    "import numpy\n",
    "print(numpy.count_nonzero(pv2-irisData.target[100:149])/49)\n",
    "\n",
    "#méthode 3\n",
    "print(1-nbv2.score(irisData.data[100:149],irisData.target[100:149]))\n",
    "\n",
    "#Instances où il y a eu des prédictions incorrectes\n",
    "print(\"liste des instanes incorrectement classées :\",instancesv2)"
   ],
   "metadata": {
    "collapsed": false,
    "ExecuteTime": {
     "end_time": "2024-11-06T19:27:29.894814300Z",
     "start_time": "2024-11-06T19:27:29.738588900Z"
    }
   },
   "id": "bcb1ee5fd228ff33"
  },
  {
   "cell_type": "raw",
   "source": [
    "Comparaison des deux modèles & conclusions"
   ],
   "metadata": {
    "collapsed": false
   },
   "id": "74aa1c4689470db1"
  },
  {
   "cell_type": "raw",
   "source": [
    "Les résultats du 2e modèle ne sont pas très  cohérents avec les prédictions précédantes ni avec  le classement réel.\n",
    "🔴 Le problème avec le premier modèle est que toutes les instances ont été utilisées pour l'apprentissage ce qui entraîne un risque de sur apprentissage(d'ailleurs le taux d'erreur sur les données d'apprentissage est trop faible =0,04).\n",
    "🔴 Le problème avec le deuxième modèle est que seules les 99 premières instances on été utilisées pour l'apprntissage.Or , le dataset iris est réparti de façon que les 100 premières insatnces sont toutes de classes 'setosa' et 'versicolor' (50 premiers setosa et 50 derniers versicolor).Du coup, le modèle ne connaît pas du tout la classe 'virginica' et ne pourra donc pas la prédire.C'est pourquoi toutes les instaces 'virginca' testées  ont toutes été incorrectement  classifiées comme \"versicolor\"(d'ailleurs le taux d'erreur =1)\n",
    "🟢 Pour de meilleurs résultats, il faudra mieux travailler sur un ensemple d'apprentissage  de volme= 2/3 du volume de données originales composé de données tirées aléatoirement pour asurer un meilleur mélange de classes.L'ensemble de test contiendra le reste des données"
   ],
   "metadata": {
    "collapsed": false
   },
   "id": "44e66fd1486d386a"
  },
  {
   "cell_type": "raw",
   "source": [
    "Echantilloanage améloré des données  avec une fonction  Train Test Split customisée"
   ],
   "metadata": {
    "collapsed": false
   },
   "id": "ab4586620da5f14b"
  },
  {
   "cell_type": "code",
   "execution_count": 9,
   "outputs": [
    {
     "name": "stdout",
     "output_type": "stream",
     "text": [
      "Training data:\n",
      "[[7.4, 2.8, 6.1, 1.9], [5.4, 3.4, 1.5, 0.4], [5.1, 3.5, 1.4, 0.2], [7.0, 3.2, 4.7, 1.4], [6.3, 3.3, 4.7, 1.6], [6.4, 2.8, 5.6, 2.2], [6.0, 2.2, 4.0, 1.0], [6.5, 3.0, 5.5, 1.8], [4.7, 3.2, 1.3, 0.2], [5.1, 3.8, 1.5, 0.3], [5.0, 3.3, 1.4, 0.2], [4.4, 2.9, 1.4, 0.2], [4.9, 3.1, 1.5, 0.1], [5.6, 2.9, 3.6, 1.3], [5.7, 4.4, 1.5, 0.4], [6.8, 3.0, 5.5, 2.1], [5.5, 2.3, 4.0, 1.3], [5.1, 3.3, 1.7, 0.5], [5.8, 2.8, 5.1, 2.4], [5.5, 2.6, 4.4, 1.2], [6.0, 3.4, 4.5, 1.6], [4.9, 2.5, 4.5, 1.7], [6.3, 3.4, 5.6, 2.4], [5.0, 3.0, 1.6, 0.2], [4.9, 2.4, 3.3, 1.0], [4.9, 3.1, 1.5, 0.2], [6.7, 2.5, 5.8, 1.8], [4.8, 3.4, 1.6, 0.2], [6.2, 2.8, 4.8, 1.8], [5.0, 3.6, 1.4, 0.2], [6.5, 3.0, 5.2, 2.0], [6.5, 3.0, 5.8, 2.2], [5.1, 2.5, 3.0, 1.1], [6.3, 3.3, 6.0, 2.5], [4.9, 3.6, 1.4, 0.1], [5.3, 3.7, 1.5, 0.2], [6.0, 3.0, 4.8, 1.8], [7.2, 3.6, 6.1, 2.5], [5.8, 2.7, 4.1, 1.0], [6.1, 3.0, 4.9, 1.8], [4.4, 3.0, 1.3, 0.2], [4.7, 3.2, 1.6, 0.2], [5.9, 3.0, 4.2, 1.5], [6.3, 2.5, 5.0, 1.9], [6.5, 3.2, 5.1, 2.0], [5.5, 2.4, 3.7, 1.0], [7.2, 3.2, 6.0, 1.8], [6.4, 3.2, 5.3, 2.3], [6.7, 3.0, 5.0, 1.7], [4.6, 3.4, 1.4, 0.3], [6.2, 3.4, 5.4, 2.3], [4.4, 3.2, 1.3, 0.2], [5.7, 2.8, 4.1, 1.3], [5.7, 2.8, 4.5, 1.3], [6.7, 3.3, 5.7, 2.1], [5.0, 3.5, 1.6, 0.6], [5.0, 3.5, 1.3, 0.3], [6.7, 3.1, 5.6, 2.4], [6.7, 3.0, 5.2, 2.3], [4.8, 3.0, 1.4, 0.1], [5.1, 3.4, 1.5, 0.2], [5.8, 4.0, 1.2, 0.2], [5.9, 3.0, 5.1, 1.8], [5.9, 3.2, 4.8, 1.8], [5.6, 2.7, 4.2, 1.3], [6.9, 3.1, 5.1, 2.3], [6.4, 2.7, 5.3, 1.9], [6.9, 3.1, 4.9, 1.5], [6.1, 2.6, 5.6, 1.4], [5.6, 3.0, 4.5, 1.5], [5.4, 3.4, 1.7, 0.2], [5.4, 3.7, 1.5, 0.2], [7.9, 3.8, 6.4, 2.0], [5.7, 3.8, 1.7, 0.3], [5.5, 2.5, 4.0, 1.3], [6.3, 2.9, 5.6, 1.8], [6.3, 2.8, 5.1, 1.5], [5.0, 2.0, 3.5, 1.0], [6.9, 3.2, 5.7, 2.3], [5.6, 3.0, 4.1, 1.3], [6.8, 2.8, 4.8, 1.4], [4.5, 2.3, 1.3, 0.3], [6.0, 2.2, 5.0, 1.5], [6.8, 3.2, 5.9, 2.3], [7.7, 3.8, 6.7, 2.2], [4.8, 3.1, 1.6, 0.2], [4.6, 3.6, 1.0, 0.2], [5.5, 4.2, 1.4, 0.2], [5.8, 2.7, 5.1, 1.9], [7.7, 2.6, 6.9, 2.3], [5.2, 4.1, 1.5, 0.1], [4.6, 3.2, 1.4, 0.2], [7.1, 3.0, 5.9, 2.1], [6.5, 2.8, 4.6, 1.5], [6.9, 3.1, 5.4, 2.1], [6.2, 2.2, 4.5, 1.5], [6.3, 2.5, 4.9, 1.5], [5.0, 3.2, 1.2, 0.2], [7.6, 3.0, 6.6, 2.1], [6.4, 2.8, 5.6, 2.1]]\n",
      "Training targets:\n",
      "[np.int64(2), np.int64(0), np.int64(0), np.int64(1), np.int64(1), np.int64(2), np.int64(1), np.int64(2), np.int64(0), np.int64(0), np.int64(0), np.int64(0), np.int64(0), np.int64(1), np.int64(0), np.int64(2), np.int64(1), np.int64(0), np.int64(2), np.int64(1), np.int64(1), np.int64(2), np.int64(2), np.int64(0), np.int64(1), np.int64(0), np.int64(2), np.int64(0), np.int64(2), np.int64(0), np.int64(2), np.int64(2), np.int64(1), np.int64(2), np.int64(0), np.int64(0), np.int64(2), np.int64(2), np.int64(1), np.int64(2), np.int64(0), np.int64(0), np.int64(1), np.int64(2), np.int64(2), np.int64(1), np.int64(2), np.int64(2), np.int64(1), np.int64(0), np.int64(2), np.int64(0), np.int64(1), np.int64(1), np.int64(2), np.int64(0), np.int64(0), np.int64(2), np.int64(2), np.int64(0), np.int64(0), np.int64(0), np.int64(2), np.int64(1), np.int64(1), np.int64(2), np.int64(2), np.int64(1), np.int64(2), np.int64(1), np.int64(0), np.int64(0), np.int64(2), np.int64(0), np.int64(1), np.int64(2), np.int64(2), np.int64(1), np.int64(2), np.int64(1), np.int64(1), np.int64(0), np.int64(2), np.int64(2), np.int64(2), np.int64(0), np.int64(0), np.int64(0), np.int64(2), np.int64(2), np.int64(0), np.int64(0), np.int64(2), np.int64(1), np.int64(2), np.int64(1), np.int64(1), np.int64(0), np.int64(2), np.int64(2)]\n",
      "Test data:\n",
      "[[5.6, 2.8, 4.9, 2.0], [6.7, 3.1, 4.7, 1.5], [4.8, 3.0, 1.4, 0.3], [5.1, 3.8, 1.9, 0.4], [5.8, 2.7, 3.9, 1.2], [5.5, 2.4, 3.8, 1.1], [6.4, 3.2, 4.5, 1.5], [5.4, 3.0, 4.5, 1.5], [6.2, 2.9, 4.3, 1.3], [6.6, 2.9, 4.6, 1.3], [5.4, 3.9, 1.7, 0.4], [6.1, 2.8, 4.0, 1.3], [5.7, 2.5, 5.0, 2.0], [5.8, 2.7, 5.1, 1.9], [6.7, 3.1, 4.4, 1.4], [4.6, 3.1, 1.5, 0.2], [6.7, 3.3, 5.7, 2.5], [5.0, 2.3, 3.3, 1.0], [7.2, 3.0, 5.8, 1.6], [5.5, 3.5, 1.3, 0.2], [5.7, 2.9, 4.2, 1.3], [7.3, 2.9, 6.3, 1.8], [5.7, 3.0, 4.2, 1.2], [4.3, 3.0, 1.1, 0.1], [5.0, 3.4, 1.6, 0.4], [6.6, 3.0, 4.4, 1.4], [5.0, 3.4, 1.5, 0.2], [6.0, 2.7, 5.1, 1.6], [5.4, 3.9, 1.3, 0.4], [6.4, 2.9, 4.3, 1.3], [6.4, 3.1, 5.5, 1.8], [5.7, 2.6, 3.5, 1.0], [6.1, 2.8, 4.7, 1.2], [6.3, 2.7, 4.9, 1.8], [7.7, 3.0, 6.1, 2.3], [7.7, 2.8, 6.7, 2.0], [6.3, 2.3, 4.4, 1.3], [5.1, 3.7, 1.5, 0.4], [5.1, 3.8, 1.6, 0.2], [6.1, 2.9, 4.7, 1.4], [5.6, 2.5, 3.9, 1.1], [5.2, 3.5, 1.5, 0.2], [5.1, 3.5, 1.4, 0.3], [4.8, 3.4, 1.9, 0.2], [5.2, 2.7, 3.9, 1.4], [5.2, 3.4, 1.4, 0.2], [5.8, 2.6, 4.0, 1.2], [6.0, 2.9, 4.5, 1.5], [4.9, 3.0, 1.4, 0.2], [6.1, 3.0, 4.6, 1.4]]\n",
      "Test targets:\n",
      "[np.int64(2), np.int64(1), np.int64(0), np.int64(0), np.int64(1), np.int64(1), np.int64(1), np.int64(1), np.int64(1), np.int64(1), np.int64(0), np.int64(1), np.int64(2), np.int64(2), np.int64(1), np.int64(0), np.int64(2), np.int64(1), np.int64(2), np.int64(0), np.int64(1), np.int64(2), np.int64(1), np.int64(0), np.int64(0), np.int64(1), np.int64(0), np.int64(1), np.int64(0), np.int64(1), np.int64(2), np.int64(1), np.int64(1), np.int64(2), np.int64(2), np.int64(2), np.int64(1), np.int64(0), np.int64(0), np.int64(1), np.int64(1), np.int64(0), np.int64(0), np.int64(0), np.int64(1), np.int64(0), np.int64(1), np.int64(1), np.int64(0), np.int64(1)]\n"
     ]
    }
   ],
   "source": [
    "import random\n",
    "from math import floor\n",
    "\n",
    "def split(s): \n",
    "    length = len(s.data)\n",
    "    training_data = []\n",
    "    training_targets = []\n",
    "    test_data = []\n",
    "    test_targets = []\n",
    "\n",
    "    # Générer et mélanger les indices\n",
    "    indices = list(range(length))\n",
    "    random.shuffle(indices)\n",
    "\n",
    "    # Diviser les indices pour les ensembles d'entraînement et de test\n",
    "    split_point = floor(length * 2 / 3)\n",
    "    training_indices = indices[:split_point]\n",
    "    test_indices = indices[split_point:]\n",
    "\n",
    "    # Construire les ensembles d'entraînement\n",
    "    for i in training_indices:\n",
    "        training_data.append(s.data[i].tolist())\n",
    "        training_targets.append(s.target[i])\n",
    "\n",
    "    # Construire les ensembles de test\n",
    "    for i in test_indices:\n",
    "        test_data.append(s.data[i].tolist())\n",
    "        test_targets.append(s.target[i])\n",
    "\n",
    "    return [training_data, training_targets, test_data, test_targets]\n",
    "\n",
    "data_split = split(irisData)    \n",
    "print(\"Training data:\")\n",
    "print(data_split[0])\n",
    "print(\"Training targets:\")\n",
    "print(data_split[1])\n",
    "print(\"Test data:\")\n",
    "print(data_split[2])\n",
    "print(\"Test targets:\")\n",
    "print(data_split[3])\n"
   ],
   "metadata": {
    "collapsed": false,
    "ExecuteTime": {
     "end_time": "2024-11-06T19:27:29.897331600Z",
     "start_time": "2024-11-06T19:27:29.751218100Z"
    }
   },
   "id": "5bf11fb44e42fc24"
  },
  {
   "cell_type": "raw",
   "source": [
    "Apprentissage et évaluation  avec les nouveaux échantillons"
   ],
   "metadata": {
    "collapsed": false
   },
   "id": "2d3a26dd59bc94d"
  },
  {
   "cell_type": "code",
   "execution_count": 10,
   "outputs": [],
   "source": [
    "def test(s,clf):\n",
    "    [training_data,training_targets,test_data,test_targets]=split(s)\n",
    "    #apprentissage\n",
    "    clf.fit(training_data,training_targets)\n",
    "    #test\n",
    "    prediction=clf.predict(test_data)\n",
    "    #évaluation\n",
    "    estimated_error=1-clf.score(test_data,test_targets)\n",
    "    return estimated_error"
   ],
   "metadata": {
    "collapsed": false,
    "ExecuteTime": {
     "end_time": "2024-11-06T19:27:29.897839400Z",
     "start_time": "2024-11-06T19:27:29.761801600Z"
    }
   },
   "id": "58230fb74e5e5144"
  },
  {
   "cell_type": "code",
   "execution_count": 11,
   "outputs": [
    {
     "name": "stdout",
     "output_type": "stream",
     "text": [
      "erreur de Naïve Bayes Tentative 1 0.040000000000000036\n",
      "erreur de Naïve Bayes Tentative 2 0.06000000000000005\n"
     ]
    }
   ],
   "source": [
    "#avec Naïve Bayes\n",
    "print(\"erreur de Naïve Bayes Tentative 1\",test(irisData,naive_bayes.MultinomialNB(fit_prior=True)))\n",
    "print(\"erreur de Naïve Bayes Tentative 2\",test(irisData,naive_bayes.MultinomialNB(fit_prior=True)))"
   ],
   "metadata": {
    "collapsed": false,
    "ExecuteTime": {
     "end_time": "2024-11-06T19:27:29.898852900Z",
     "start_time": "2024-11-06T19:27:29.767457Z"
    }
   },
   "id": "26f8999473520a8c"
  },
  {
   "cell_type": "raw",
   "source": [
    "l'erreur avec le même classifieur NB est beaucoup plus faible avec cet échantillonage mais l'erreur change avec chaque exécution."
   ],
   "metadata": {
    "collapsed": false
   },
   "id": "8c3e02f8ac27b262"
  },
  {
   "cell_type": "code",
   "execution_count": 12,
   "outputs": [
    {
     "name": "stdout",
     "output_type": "stream",
     "text": [
      "[[0.20600000000000002, 0.21400000000000002, 0.138, 0.23800000000000004, 0.14400000000000004, 0.14400000000000002, 0.26999999999999996, 0.25399999999999995, 0.292, 0.146, 0.23800000000000004, 0.164, 0.23399999999999999, 0.22000000000000003, 0.26, 0.20800000000000005, 0.21800000000000003, 0.20800000000000002, 0.22599999999999998], [0.191, 0.17400000000000002, 0.12200000000000004, 0.25000000000000006, 0.168, 0.20800000000000002, 0.13900000000000004, 0.19699999999999995, 0.185, 0.169, 0.193, 0.17600000000000002, 0.18600000000000003, 0.21200000000000002, 0.20800000000000002, 0.17100000000000004, 0.23200000000000004, 0.21500000000000002, 0.23899999999999996], [0.22520000000000015, 0.21880000000000002, 0.22959999999999997, 0.18200000000000002, 0.2128, 0.18320000000000003, 0.17400000000000002, 0.18639999999999998, 0.21000000000000005, 0.23199999999999998, 0.19039999999999999, 0.25120000000000003, 0.23120000000000004, 0.24040000000000006, 0.20600000000000004, 0.2288, 0.18719999999999992, 0.19719999999999996, 0.21520000000000003], [0.22160000000000005, 0.21299999999999997, 0.20639999999999994, 0.20539999999999994, 0.1832000000000001, 0.1847999999999999, 0.2182, 0.22440000000000004, 0.21079999999999996, 0.19440000000000002, 0.1757999999999999, 0.18739999999999998, 0.20499999999999993, 0.20359999999999992, 0.23159999999999997, 0.20499999999999996, 0.1876000000000001, 0.19399999999999987, 0.18579999999999994], [0.20680000000000004, 0.2222999999999999, 0.1974999999999999, 0.19049999999999986, 0.19910000000000008, 0.21119999999999992, 0.2187000000000002, 0.21739999999999995, 0.21339999999999995, 0.20119999999999996, 0.19769999999999985, 0.19209999999999983, 0.19709999999999994, 0.1849, 0.21310000000000007, 0.2162000000000001, 0.1843, 0.22019999999999992, 0.20089999999999994], [0.19896000000000008, 0.20644000000000018, 0.19728, 0.1948400000000003, 0.1945200000000002, 0.20124000000000017, 0.19992000000000007, 0.20380000000000034, 0.1962400000000002, 0.2038400000000001, 0.19940000000000035, 0.18976000000000043, 0.19640000000000019, 0.20372000000000007, 0.1942400000000001, 0.20756000000000005, 0.19612000000000004, 0.20396000000000022, 0.19540000000000013], [0.20330000000000006, 0.20154000000000064, 0.20264000000000051, 0.19503999999999988, 0.20412000000000002, 0.20482000000000022, 0.20484000000000013, 0.2005000000000001, 0.20170000000000027, 0.19802000000000045, 0.20671999999999993, 0.20242000000000052, 0.21166000000000026, 0.19558000000000017, 0.20224000000000028, 0.2134600000000003, 0.1996000000000001, 0.19782000000000047, 0.1945400000000001]]\n"
     ]
    }
   ],
   "source": [
    "def stabiliserErreur(s,clf,t):\n",
    "        estimated_error=0\n",
    "        for i in range(t):\n",
    "            estimated_error=estimated_error+test(s,clf)\n",
    "        return estimated_error/t\n",
    "        \n",
    "def repeterExperience(s,clf,times):\n",
    "    estimated_errors=[]\n",
    "    for i in range(len(times)):\n",
    "        estimated_errors_for_t=[];\n",
    "        for j in range(19):\n",
    "            estimated_errors_for_t.append(stabiliserErreur(s,clf,times[i]))\n",
    "        estimated_errors.append(estimated_errors_for_t)\n",
    "    return estimated_errors\n",
    "            \n",
    "print(repeterExperience(s=irisData,clf=naive_bayes.MultinomialNB(fit_prior=True),times=[10,20,50,100,200,500,1000]))"
   ],
   "metadata": {
    "collapsed": false,
    "ExecuteTime": {
     "end_time": "2024-11-06T19:28:48.907661500Z",
     "start_time": "2024-11-06T19:27:29.784499300Z"
    }
   },
   "id": "82d739f04ce78e3d"
  },
  {
   "cell_type": "markdown",
   "source": [
    "On voit que les erreurs se stabilisent vers la fin telles que pour:\n",
    " t=10: stabilisation à ~0.1 \n",
    " t=20: stabilisation à ~0.2 \n",
    " t=50: stabilisation à ~0.2 \n",
    " t=100: stabilisation à ~0.2 \n",
    " t=200: stabilisation à ~0.2 \n",
    " t=500: stabilisation à ~0.2\n",
    " t=1000: stabilisation à ~0.2"
   ],
   "metadata": {
    "collapsed": false
   },
   "id": "5ed35c0c56aca59b"
  },
  {
   "cell_type": "raw",
   "source": [
    "Utilisation d'une fonction prédéfinie avec la méthode   Train Test Split"
   ],
   "metadata": {
    "collapsed": false
   },
   "id": "f9790243f932f6cb"
  },
  {
   "cell_type": "code",
   "execution_count": 13,
   "outputs": [],
   "source": [
    "from sklearn.model_selection import train_test_split\n",
    "def train_test_split_evaluation(s,clf,size):\n",
    "    [training_data,test_data,training_targets,test_targets]=train_test_split(s.data,s.target,test_size=size,random_state=42)\n",
    "    clf.fit(training_data,training_targets)\n",
    "    clf.predict(test_data)\n",
    "    error=1-clf.score(test_data,test_targets)\n",
    "    return error"
   ],
   "metadata": {
    "collapsed": false,
    "ExecuteTime": {
     "end_time": "2024-11-06T19:28:48.929313400Z",
     "start_time": "2024-11-06T19:28:48.909289500Z"
    }
   },
   "id": "4db2c033973d2b09"
  },
  {
   "cell_type": "raw",
   "source": [
    "Utilisation d'une méthode prédéfinie avec la méthode Cross Validation"
   ],
   "metadata": {
    "collapsed": false
   },
   "id": "1e95cdeb87226e38"
  },
  {
   "cell_type": "code",
   "execution_count": 14,
   "outputs": [],
   "source": [
    "from sklearn.model_selection import cross_val_score\n",
    "def test_cross_validation(s,clf,folds):\n",
    "    errors= 1-cross_val_score(clf,s.data,s.target,cv=folds)\n",
    "    mean_error=numpy.mean(errors)\n",
    "    return mean_error"
   ],
   "metadata": {
    "collapsed": false,
    "ExecuteTime": {
     "end_time": "2024-11-06T19:28:48.930312800Z",
     "start_time": "2024-11-06T19:28:48.921911400Z"
    }
   },
   "id": "b744fb2ef819a838"
  },
  {
   "cell_type": "code",
   "execution_count": 15,
   "outputs": [],
   "source": [
    "def test_classifier_with_tts(s,clf,clfname,sizes):\n",
    "    print(\"Erreurs du classifieur\",clfname,\"avec la méthode Train Test Split\")\n",
    "    for size in sizes:\n",
    "        print(\"pour size= \",size,\"=\",train_test_split_evaluation(s,clf,size))\n",
    "    print(\"\\n\")\n",
    "\n",
    "def test_classifier_with_cv(s,clf,clfname,folds):\n",
    "    print(\"Erreurs du classifieur\",clfname,\"avec la méthode cross validation\")\n",
    "    for fold in folds:\n",
    "        print(\"pour folds= \",fold,'=',test_cross_validation(s,clf,fold))\n",
    "    print(\"\\n\")\n"
   ],
   "metadata": {
    "collapsed": false,
    "ExecuteTime": {
     "end_time": "2024-11-06T19:28:48.975754Z",
     "start_time": "2024-11-06T19:28:48.931313100Z"
    }
   },
   "id": "7d0304fa12aa8cb6"
  },
  {
   "cell_type": "code",
   "execution_count": 16,
   "outputs": [],
   "source": [
    "_sizes=[0.1,0.33,0.5]\n",
    "_folds=[2,3,5,8,10]"
   ],
   "metadata": {
    "collapsed": false,
    "ExecuteTime": {
     "end_time": "2024-11-06T19:28:49.051236100Z",
     "start_time": "2024-11-06T19:28:48.945242Z"
    }
   },
   "id": "c8afbf20ccb0f815"
  },
  {
   "cell_type": "raw",
   "source": [
    "Tester pour Naïve Bayes"
   ],
   "metadata": {
    "collapsed": false
   },
   "id": "c5ddc765c52e4ddf"
  },
  {
   "cell_type": "code",
   "execution_count": 17,
   "outputs": [
    {
     "name": "stdout",
     "output_type": "stream",
     "text": [
      "Erreurs du classifieur NB avec la méthode Train Test Split\n",
      "pour size=  0.1 = 0.1333333333333333\n",
      "pour size=  0.33 = 0.040000000000000036\n",
      "pour size=  0.5 = 0.026666666666666616\n",
      "\n",
      "\n",
      "Erreurs du classifieur NB avec la méthode cross validation\n",
      "pour folds=  2 = 0.04666666666666669\n",
      "pour folds=  3 = 0.053333333333333344\n",
      "pour folds=  5 = 0.046666666666666655\n",
      "pour folds=  8 = 0.05263157894736843\n",
      "pour folds=  10 = 0.046666666666666655\n"
     ]
    }
   ],
   "source": [
    "test_classifier_with_tts(irisData,naive_bayes.MultinomialNB(fit_prior=True),\"NB\",_sizes)\n",
    "test_classifier_with_cv(irisData,naive_bayes.MultinomialNB(fit_prior=True),\"NB\",_folds)"
   ],
   "metadata": {
    "collapsed": false,
    "ExecuteTime": {
     "end_time": "2024-11-06T19:28:49.087452800Z",
     "start_time": "2024-11-06T19:28:48.953281200Z"
    }
   },
   "id": "72b9174a1118642e"
  },
  {
   "cell_type": "raw",
   "source": [
    "Tester pour Decision Tree"
   ],
   "metadata": {
    "collapsed": false
   },
   "id": "18ba43e6d62531f5"
  },
  {
   "cell_type": "code",
   "execution_count": 26,
   "outputs": [
    {
     "name": "stdout",
     "output_type": "stream",
     "text": [
      "Erreurs du classifieur DT avec la méthode Train Test Split\n",
      "pour size=  0.1 = 0.0\n",
      "pour size=  0.33 = 0.040000000000000036\n",
      "pour size=  0.5 = 0.040000000000000036\n",
      "\n",
      "\n",
      "Erreurs du classifieur DT avec la méthode cross validation\n",
      "pour folds=  2 = 0.04666666666666669\n",
      "pour folds=  3 = 0.03333333333333336\n",
      "pour folds=  5 = 0.039999999999999994\n",
      "pour folds=  8 = 0.03947368421052633\n",
      "pour folds=  10 = 0.039999999999999994\n"
     ]
    }
   ],
   "source": [
    "from sklearn.tree import DecisionTreeClassifier\n",
    "clf = DecisionTreeClassifier(random_state=0)\n",
    "test_classifier_with_tts(irisData,clf,\"DT\",_sizes)\n",
    "test_classifier_with_cv(irisData,clf,\"DT\",_folds)"
   ],
   "metadata": {
    "collapsed": false,
    "ExecuteTime": {
     "end_time": "2024-11-06T19:52:03.954528Z",
     "start_time": "2024-11-06T19:52:03.830915700Z"
    }
   },
   "id": "204ab594e5412ddc"
  },
  {
   "cell_type": "raw",
   "source": [
    "Tester pour KNN"
   ],
   "metadata": {
    "collapsed": false
   },
   "id": "7fbc1646eb2efd32"
  },
  {
   "cell_type": "code",
   "execution_count": 43,
   "outputs": [
    {
     "name": "stdout",
     "output_type": "stream",
     "text": [
      "Erreurs du classifieur KNN avec la méthode Train Test Split\n",
      "pour size=  0.1 = 0.0\n",
      "pour size=  0.33 = 0.020000000000000018\n",
      "pour size=  0.5 = 0.026666666666666616\n",
      "\n",
      "\n",
      "Erreurs du classifieur KNN avec la méthode cross validation\n",
      "pour folds=  2 = 0.06\n",
      "pour folds=  3 = 0.02666666666666669\n",
      "pour folds=  5 = 0.033333333333333326\n",
      "pour folds=  8 = 0.03289473684210528\n",
      "pour folds=  10 = 0.033333333333333326\n"
     ]
    }
   ],
   "source": [
    "from sklearn.neighbors import KNeighborsClassifier\n",
    "clf = KNeighborsClassifier(n_neighbors=3)\n",
    "test_classifier_with_tts(irisData,clf,\"KNN\",_sizes)\n",
    "test_classifier_with_cv(irisData,clf,\"KNN\",_folds)\n"
   ],
   "metadata": {
    "collapsed": false,
    "ExecuteTime": {
     "end_time": "2024-11-06T20:20:59.599029800Z",
     "start_time": "2024-11-06T20:20:59.407963800Z"
    }
   },
   "id": "f3f317abfbb4063b"
  },
  {
   "cell_type": "raw",
   "source": [
    "Tester pour Random Forest"
   ],
   "metadata": {
    "collapsed": false
   },
   "id": "6c27d0032edf300b"
  },
  {
   "cell_type": "code",
   "execution_count": 32,
   "outputs": [
    {
     "name": "stdout",
     "output_type": "stream",
     "text": [
      "Erreurs du classifieur RF avec la méthode Train Test Split\n",
      "pour size=  0.1 = 0.0\n",
      "pour size=  0.33 = 0.020000000000000018\n",
      "pour size=  0.5 = 0.013333333333333308\n",
      "\n",
      "\n",
      "Erreurs du classifieur RF avec la méthode cross validation\n",
      "pour folds=  2 = 0.053333333333333344\n",
      "pour folds=  3 = 0.053333333333333344\n",
      "pour folds=  5 = 0.059999999999999984\n",
      "pour folds=  8 = 0.03947368421052633\n",
      "pour folds=  10 = 0.039999999999999994\n"
     ]
    }
   ],
   "source": [
    "from sklearn.ensemble import RandomForestClassifier\n",
    "clf = RandomForestClassifier(max_depth=2, random_state=0,bootstrap=True,n_estimators=7)\n",
    "test_classifier_with_tts(irisData,clf,\"RF\",_sizes)\n",
    "test_classifier_with_cv(irisData,clf,\"RF\",_folds)"
   ],
   "metadata": {
    "collapsed": false,
    "ExecuteTime": {
     "end_time": "2024-11-06T20:05:23.063417Z",
     "start_time": "2024-11-06T20:05:22.728041Z"
    }
   },
   "id": "c8f5a6d703fb83e8"
  },
  {
   "cell_type": "raw",
   "source": [
    "Tester pour Bagging"
   ],
   "metadata": {
    "collapsed": false
   },
   "id": "9ad3f16dce68cddb"
  },
  {
   "cell_type": "code",
   "execution_count": 29,
   "outputs": [
    {
     "name": "stdout",
     "output_type": "stream",
     "text": [
      "Erreurs du classifieur Bagging avec la méthode Train Test Split\n",
      "pour size=  0.1 = 0.0\n",
      "pour size=  0.33 = 0.0\n",
      "pour size=  0.5 = 0.053333333333333344\n",
      "\n",
      "\n",
      "Erreurs du classifieur Bagging avec la méthode cross validation\n",
      "pour folds=  2 = 0.040000000000000036\n",
      "pour folds=  3 = 0.02666666666666669\n",
      "pour folds=  5 = 0.039999999999999994\n",
      "pour folds=  8 = 0.03326023391812867\n",
      "pour folds=  10 = 0.033333333333333326\n"
     ]
    }
   ],
   "source": [
    "from sklearn.svm import SVC\n",
    "from sklearn.ensemble import BaggingClassifier\n",
    "clf = BaggingClassifier(estimator=SVC(),n_estimators=10, random_state=0)\n",
    "test_classifier_with_tts(irisData,clf,\"Bagging\",_sizes)\n",
    "test_classifier_with_cv(irisData,clf,\"Bagging\",_folds)"
   ],
   "metadata": {
    "collapsed": false,
    "ExecuteTime": {
     "end_time": "2024-11-06T19:52:35.395453100Z",
     "start_time": "2024-11-06T19:52:33.657862Z"
    }
   },
   "id": "eeef790a41865bb"
  },
  {
   "cell_type": "code",
   "execution_count": null,
   "outputs": [],
   "source": [],
   "metadata": {
    "collapsed": false
   },
   "id": "a090c86ca38c2c36"
  }
 ],
 "metadata": {
  "kernelspec": {
   "display_name": "Python 3",
   "language": "python",
   "name": "python3"
  },
  "language_info": {
   "codemirror_mode": {
    "name": "ipython",
    "version": 2
   },
   "file_extension": ".py",
   "mimetype": "text/x-python",
   "name": "python",
   "nbconvert_exporter": "python",
   "pygments_lexer": "ipython2",
   "version": "2.7.6"
  }
 },
 "nbformat": 4,
 "nbformat_minor": 5
}
